{
 "cells": [
  {
   "cell_type": "code",
   "execution_count": 1,
   "id": "7ac1dd4c",
   "metadata": {},
   "outputs": [],
   "source": [
    "#!/usr/bin/env python3\n",
    "# -*- coding: utf-8 -*-\n",
    "import dhn_med_py\n",
    "import numpy as np\n",
    "from datetime import datetime\n",
    "\n",
    "from dhn_med_py import MedSession"
   ]
  },
  {
   "cell_type": "code",
   "execution_count": 4,
   "id": "b037f53a",
   "metadata": {},
   "outputs": [],
   "source": [
    "med_folderpath = r\"/Users/gardy/Documents/GardyL/Data_storage/EEG_data/BIDS/BIDS_like_Toulouse/sub-073/ses-EPIFAR/ses-MedNlx01/RL41-epifar3.medd\"\n",
    "\n",
    "##### EEG duration to load #####\n",
    "time_start_sec = 0\n",
    "time_stop_sec = 200\n",
    "n_channels_to_load = 10\n",
    "##### /EEG duration to load #####"
   ]
  },
  {
   "cell_type": "code",
   "execution_count": 3,
   "id": "bb4c3380",
   "metadata": {},
   "outputs": [
    {
     "name": "stdout",
     "output_type": "stream",
     "text": [
      "First channel name: chan_0001\n",
      "Sampling rate of first channel: 32768.0\n",
      "[path ] /Users/gardy/Documents/GardyL/Data_storage/EEG_data/BIDS/BIDS_like_Toulouse/sub-073/ses-EPIFAR/ses-MedNlx01/RL41-epifar3.medd/chan_0001.ticd\n",
      "[start_time ] 36582297030\n",
      "[end_time ] 40194552037\n",
      "[start_time_string ] Thu 28 Jan 2021  10:09:42.297030 CET (UTC +1.00)\n",
      "[end_time_string ] Thu 28 Jan 2021  11:09:54.552037 CET (UTC +1.00)\n",
      "[session_start_time ] 36582297030\n",
      "[session_end_time ] 40194552037\n",
      "[session_start_time_string ] Thu 28 Jan 2021  10:09:42.297030 CET (UTC +1.00)\n",
      "[session_end_time_string ] Thu 28 Jan 2021  11:09:54.552037 CET (UTC +1.00)\n",
      "[absolute_start_sample_number ] 0\n",
      "[absolute_end_sample_number ] 118366336\n",
      "[session_name ] RL41-epifar3\n",
      "[channel_name ] chan_0001\n",
      "[anonymized_subject_ID ] \n",
      "[session_UID ] 1701574033923764905\n",
      "[channel_UID ] 12762832480109408761\n",
      "[session_description ] \n",
      "From Neuralynx Raw Data (NRD) File Header:\n",
      "------------------------------------------\n",
      "File Type:  Raw\n",
      "File Version:  3.4.0\n",
      "File UUID:  0x29393164-4bab-4b58-bb46-180d0e5e5e8f\n",
      "Session UUID:  0x6e3f05c1-64be-4058-8955-6e5125be9140\n",
      "Original File Name:  \"G:\\RL41\\RL41-epifar3.nrd\"\n",
      "Record Size (bytes):  1096\n",
      "Application Name:  Pegasus 2.1.2\n",
      "Acquisition System:  ATLAS (\"Micromed\")\n",
      "Sampling Frequency:  32768.000000 Hz\n",
      "Units Conversion Factor (to µV):  0.015625\n",
      "Number of Channels:  256\n",
      "\n",
      "[channel_description ] \n",
      "[equipment_description ] Neuralynx Atlas / Pegasus acquisition system\n",
      "[acquisition_channel_number ] 1\n",
      "[reference_description ] \n",
      "[sampling_frequency ] 32768.0\n",
      "[low_frequency_filter_setting ] 0.0\n",
      "[high_frequency_filter_setting ] 8192.0\n",
      "[notch_filter_frequency_setting ] -1.0\n",
      "[AC_line_frequency ] 50.0\n",
      "[amplitude_units_conversion_factor ] 1.0\n",
      "[amplitude_units_description ] microvolts\n",
      "[time_base_units_conversion_factor ] 1.0\n",
      "[time_base_units_description ] microseconds\n",
      "[recording_time_offset ] 1611788400000000\n",
      "[standard_UTC_offset ] 3600\n",
      "[standard_timezone_string ] Central European Time\n",
      "[standard_timezone_acronym ] CET\n",
      "[daylight_timezone_string ] Central European Daylight Time\n",
      "[daylight_timezone_acronym ] CEDT\n",
      "[daylight_time_start_code ] 4323457849889259521\n",
      "[daylight_time_end_code ] -4323452305085693697\n",
      "[subject_name_1 ] \n",
      "[subject_name_2 ] \n",
      "[subject_name_3 ] \n",
      "[subject_ID ] \n",
      "[recording_country ] FRANCE\n",
      "[recording_territory ] \n",
      "[recording_locality ] TOULOUSE\n",
      "[recording_institution ] CNRS\n"
     ]
    },
    {
     "name": "stderr",
     "output_type": "stream",
     "text": [
      "\u001b[32mconnect_to_server_d11(): failed to connect\n",
      "\u001b[0m\u001b[32msend_transmission_d11(): failed to open socket 72.174.93.146\n",
      "\u001b[0mfreeing session\n",
      "closing!\n"
     ]
    }
   ],
   "source": [
    "##### Open session #####\n",
    "sess = MedSession([med_folderpath])\n",
    "##### /Open session #####\n",
    "\n",
    "##### Get headers #####\n",
    "sampling_rate = sess.session_info['channels'][0]['metadata']['sampling_frequency']\n",
    "print(\"First channel name:\", sess.session_info['channels'][0]['metadata']['channel_name'])\n",
    "print(\"Sampling rate of first channel:\", sampling_rate)\n",
    "\n",
    "for key in sess.session_info['channels'][0]['metadata'].keys():\n",
    "    print(f\"[{key} ]\", sess.session_info['channels'][0]['metadata'][key])\n",
    "##### Get headers #####\n",
    "    \n",
    "##### Free session #####\n",
    "del sess\n",
    "##### /Free session #####"
   ]
  },
  {
   "cell_type": "code",
   "execution_count": 5,
   "id": "77d1e873",
   "metadata": {},
   "outputs": [
    {
     "name": "stdout",
     "output_type": "stream",
     "text": [
      "Loding data... (hh:mm:ss) 14:50:54\n",
      "[14:50:54] Opening channel 0...\n",
      "Channel 0 done.\n",
      "[14:50:58] Opening channel 1...\n",
      "Channel 1 done.\n",
      "[14:51:01] Opening channel 2...\n",
      "Channel 2 done.\n",
      "[14:51:04] Opening channel 3...\n",
      "Channel 3 done.\n",
      "[14:51:08] Opening channel 4...\n",
      "Channel 4 done.\n",
      "[14:51:11] Opening channel 5...\n",
      "Channel 5 done.\n",
      "[14:51:14] Opening channel 6...\n",
      "Channel 6 done.\n",
      "[14:51:18] Opening channel 7...\n",
      "Channel 7 done.\n",
      "[14:51:21] Opening channel 8...\n",
      "Channel 8 done.\n",
      "[14:51:24] Opening channel 9...\n",
      "Channel 9 done.\n"
     ]
    },
    {
     "name": "stderr",
     "output_type": "stream",
     "text": [
      "freeing session\n",
      "closing!\n"
     ]
    }
   ],
   "source": [
    "##### Open session #####\n",
    "sess = MedSession([med_folderpath])\n",
    "##### /Open session #####\n",
    "\n",
    "##### Read data, in 1 second chunks #####\n",
    "all_channels_data = []\n",
    "ch_names = []\n",
    "sfreq_list = []\n",
    "\n",
    "now = datetime.now()\n",
    "current_time = now.strftime(\"%H:%M:%S\")\n",
    "print(f\"Loding data... (hh:mm:ss) {current_time}\")\n",
    "\n",
    "chunks_duration_sec = 100\n",
    "time_range = np.arange(time_start_sec, time_stop_sec, chunks_duration_sec)\n",
    "\n",
    "for ch_num_i in range(n_channels_to_load):\n",
    "    now = datetime.now()\n",
    "    current_time = now.strftime(\"%H:%M:%S\")\n",
    "    print(f\"[{current_time}] Opening channel {ch_num_i}...\")\n",
    "\n",
    "    ### Init variables for this channel\n",
    "    ch_names.append(sess.session_info['channels'][ch_num_i]['metadata']['channel_name'])\n",
    "    sfreq_list.append(sess.session_info['channels'][ch_num_i]['metadata']['sampling_frequency'])\n",
    "    all_channels_data.append([])\n",
    "\n",
    "    ### Load data by chunks\n",
    "    for y in time_range:\n",
    "        start_sec = y\n",
    "        stop_sec = y + chunks_duration_sec\n",
    "\n",
    "        sess.readByIndex(sampling_rate * start_sec, sampling_rate * stop_sec)\n",
    "        all_channels_data[ch_num_i].append(sess.data['channels'][ch_num_i]['data'])\n",
    "        #print(f\"[Channel {ch_num_i}] {y} sec. to {y+1} sec. done.\\n\")\n",
    "    all_channels_data[ch_num_i] = np.concatenate(all_channels_data[ch_num_i])\n",
    "    print(f\"Channel {ch_num_i} done.\")\n",
    "##### /Read data, in 1 second chunks #####\n",
    "\n",
    "##### Free session #####\n",
    "del sess\n",
    "##### /Free session #####"
   ]
  },
  {
   "cell_type": "code",
   "execution_count": 7,
   "id": "fd1e924e",
   "metadata": {},
   "outputs": [
    {
     "name": "stdout",
     "output_type": "stream",
     "text": [
      "data shape: (10, 6553600)\n"
     ]
    }
   ],
   "source": [
    "print(f\"data shape: {np.array(all_channels_data).shape}\")"
   ]
  },
  {
   "cell_type": "code",
   "execution_count": 9,
   "id": "5cbaa84c",
   "metadata": {},
   "outputs": [
    {
     "data": {
      "image/png": "[encoded data removed]",
      "text/plain": [
       "<Figure size 432x288 with 4 Axes>"
      ]
     },
     "metadata": {
      "needs_background": "light"
     },
     "output_type": "display_data"
    }
   ],
   "source": [
    "import matplotlib.pyplot as plt\n",
    "f, ax = plt.subplots(4)\n",
    "ax[0].plot(all_channels_data[0])\n",
    "ax[1].plot(all_channels_data[1])\n",
    "ax[2].plot(all_channels_data[2])\n",
    "ax[3].plot(all_channels_data[3])\n",
    "plt.show()"
   ]
  },
  {
   "cell_type": "code",
   "execution_count": null,
   "id": "14d49803",
   "metadata": {},
   "outputs": [],
   "source": []
  }
 ],
 "metadata": {
  "kernelspec": {
   "display_name": "Python 3 (ipykernel)",
   "language": "python",
   "name": "python3"
  },
  "language_info": {
   "codemirror_mode": {
    "name": "ipython",
    "version": 3
   },
   "file_extension": ".py",
   "mimetype": "text/x-python",
   "name": "python",
   "nbconvert_exporter": "python",
   "pygments_lexer": "ipython3",
   "version": "3.9.12"
  }
 },
 "nbformat": 4,
 "nbformat_minor": 5
}
